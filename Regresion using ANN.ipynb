{
 "cells": [
  {
   "cell_type": "code",
   "execution_count": 1,
   "metadata": {},
   "outputs": [],
   "source": [
    "%config Completer.use_jedi = False\n",
    "import pandas as pd\n",
    "import numpy as np\n",
    "%matplotlib inline\n",
    "import matplotlib as mpl\n",
    "import matplotlib.pyplot as plt\n",
    "import seaborn as sns"
   ]
  },
  {
   "cell_type": "code",
   "execution_count": 2,
   "metadata": {},
   "outputs": [],
   "source": [
    "import tensorflow as tf\n",
    "from tensorflow import keras"
   ]
  },
  {
   "cell_type": "code",
   "execution_count": 3,
   "metadata": {},
   "outputs": [],
   "source": [
    "from sklearn.datasets import fetch_california_housing\n",
    "housing = fetch_california_housing()"
   ]
  },
  {
   "cell_type": "code",
   "execution_count": 4,
   "metadata": {},
   "outputs": [
    {
     "data": {
      "text/plain": [
       "['MedInc',\n",
       " 'HouseAge',\n",
       " 'AveRooms',\n",
       " 'AveBedrms',\n",
       " 'Population',\n",
       " 'AveOccup',\n",
       " 'Latitude',\n",
       " 'Longitude']"
      ]
     },
     "execution_count": 4,
     "metadata": {},
     "output_type": "execute_result"
    }
   ],
   "source": [
    "housing.feature_names"
   ]
  },
  {
   "cell_type": "code",
   "execution_count": 5,
   "metadata": {},
   "outputs": [],
   "source": [
    "from sklearn.model_selection import train_test_split\n",
    "X_train_full, X_test, y_train_full, y_test = train_test_split(housing.data, housing.target, random_state=42)\n",
    "X_train, X_valid, y_train, y_valid = train_test_split(X_train_full, y_train_full, random_state=42)"
   ]
  },
  {
   "cell_type": "code",
   "execution_count": 6,
   "metadata": {},
   "outputs": [],
   "source": [
    "from sklearn.preprocessing import StandardScaler\n",
    "scaler = StandardScaler()\n",
    "X_train = scaler.fit_transform(X_train)\n",
    "X_valid = scaler.transform(X_valid)\n",
    "X_test = scaler.transform(X_test)"
   ]
  },
  {
   "cell_type": "code",
   "execution_count": 7,
   "metadata": {},
   "outputs": [],
   "source": [
    "np.random.seed(42)\n",
    "tf.random.set_seed(42)"
   ]
  },
  {
   "cell_type": "code",
   "execution_count": 8,
   "metadata": {},
   "outputs": [
    {
     "data": {
      "text/plain": [
       "(11610, 8)"
      ]
     },
     "execution_count": 8,
     "metadata": {},
     "output_type": "execute_result"
    }
   ],
   "source": [
    "X_train.shape"
   ]
  },
  {
   "cell_type": "code",
   "execution_count": 9,
   "metadata": {},
   "outputs": [],
   "source": [
    "model = keras.models.Sequential([\n",
    "    keras.layers.Dense(30, activation=\"relu\", input_shape=X_train.shape[1:]),\n",
    "    keras.layers.Dense(30, activation=\"relu\"),\n",
    "    keras.layers.Dense(1)\n",
    "])"
   ]
  },
  {
   "cell_type": "code",
   "execution_count": 10,
   "metadata": {},
   "outputs": [
    {
     "name": "stdout",
     "output_type": "stream",
     "text": [
      "Model: \"sequential\"\n",
      "_________________________________________________________________\n",
      "Layer (type)                 Output Shape              Param #   \n",
      "=================================================================\n",
      "dense (Dense)                (None, 30)                270       \n",
      "_________________________________________________________________\n",
      "dense_1 (Dense)              (None, 30)                930       \n",
      "_________________________________________________________________\n",
      "dense_2 (Dense)              (None, 1)                 31        \n",
      "=================================================================\n",
      "Total params: 1,231\n",
      "Trainable params: 1,231\n",
      "Non-trainable params: 0\n",
      "_________________________________________________________________\n"
     ]
    }
   ],
   "source": [
    "model.summary()"
   ]
  },
  {
   "cell_type": "code",
   "execution_count": 11,
   "metadata": {},
   "outputs": [],
   "source": [
    "model.compile(loss=\"mean_squared_error\",\n",
    "             optimizer=keras.optimizers.SGD(lr=1e-3),\n",
    "             metrics=['mae'])"
   ]
  },
  {
   "cell_type": "code",
   "execution_count": 12,
   "metadata": {
    "scrolled": true
   },
   "outputs": [
    {
     "name": "stdout",
     "output_type": "stream",
     "text": [
      "Epoch 1/20\n",
      "363/363 [==============================] - 2s 2ms/step - loss: 3.3697 - mae: 1.4280 - val_loss: 0.7126 - val_mae: 0.6368\n",
      "Epoch 2/20\n",
      "363/363 [==============================] - 1s 1ms/step - loss: 0.6964 - mae: 0.6267 - val_loss: 0.6880 - val_mae: 0.5704\n",
      "Epoch 3/20\n",
      "363/363 [==============================] - 0s 1ms/step - loss: 0.6167 - mae: 0.5701 - val_loss: 0.5803 - val_mae: 0.5352\n",
      "Epoch 4/20\n",
      "363/363 [==============================] - 0s 1ms/step - loss: 0.5846 - mae: 0.5491 - val_loss: 0.5166 - val_mae: 0.5207\n",
      "Epoch 5/20\n",
      "363/363 [==============================] - 1s 2ms/step - loss: 0.5321 - mae: 0.5292 - val_loss: 0.4895 - val_mae: 0.5022\n",
      "Epoch 6/20\n",
      "363/363 [==============================] - 1s 2ms/step - loss: 0.5083 - mae: 0.5146 - val_loss: 0.4951 - val_mae: 0.4934\n",
      "Epoch 7/20\n",
      "363/363 [==============================] - 1s 2ms/step - loss: 0.5044 - mae: 0.5060 - val_loss: 0.4861 - val_mae: 0.4838\n",
      "Epoch 8/20\n",
      "363/363 [==============================] - 0s 1ms/step - loss: 0.4813 - mae: 0.4968 - val_loss: 0.4554 - val_mae: 0.4753\n",
      "Epoch 9/20\n",
      "363/363 [==============================] - 0s 1ms/step - loss: 0.4627 - mae: 0.4882 - val_loss: 0.4413 - val_mae: 0.4671\n",
      "Epoch 10/20\n",
      "363/363 [==============================] - 1s 2ms/step - loss: 0.4549 - mae: 0.4846 - val_loss: 0.4379 - val_mae: 0.4623\n",
      "Epoch 11/20\n",
      "363/363 [==============================] - 0s 1ms/step - loss: 0.4416 - mae: 0.4758 - val_loss: 0.4396 - val_mae: 0.4638\n",
      "Epoch 12/20\n",
      "363/363 [==============================] - 0s 1ms/step - loss: 0.4295 - mae: 0.4715 - val_loss: 0.4507 - val_mae: 0.4573\n",
      "Epoch 13/20\n",
      "363/363 [==============================] - 0s 1ms/step - loss: 0.4326 - mae: 0.4702 - val_loss: 0.3997 - val_mae: 0.4517\n",
      "Epoch 14/20\n",
      "363/363 [==============================] - 1s 2ms/step - loss: 0.4207 - mae: 0.4651 - val_loss: 0.3956 - val_mae: 0.4497\n",
      "Epoch 15/20\n",
      "363/363 [==============================] - 1s 1ms/step - loss: 0.4198 - mae: 0.4582 - val_loss: 0.3916 - val_mae: 0.4464\n",
      "Epoch 16/20\n",
      "363/363 [==============================] - 1s 1ms/step - loss: 0.4248 - mae: 0.4652 - val_loss: 0.3937 - val_mae: 0.4445\n",
      "Epoch 17/20\n",
      "363/363 [==============================] - 1s 1ms/step - loss: 0.4105 - mae: 0.4598 - val_loss: 0.3809 - val_mae: 0.4390\n",
      "Epoch 18/20\n",
      "363/363 [==============================] - 1s 2ms/step - loss: 0.4070 - mae: 0.4585 - val_loss: 0.3793 - val_mae: 0.4368\n",
      "Epoch 19/20\n",
      "363/363 [==============================] - 1s 1ms/step - loss: 0.3902 - mae: 0.4500 - val_loss: 0.3850 - val_mae: 0.4369\n",
      "Epoch 20/20\n",
      "363/363 [==============================] - 0s 1ms/step - loss: 0.3864 - mae: 0.4441 - val_loss: 0.3809 - val_mae: 0.4368\n"
     ]
    }
   ],
   "source": [
    "model_history = model.fit(X_train, y_train, epochs=20, validation_data=(X_valid, y_valid))"
   ]
  },
  {
   "cell_type": "code",
   "execution_count": 13,
   "metadata": {},
   "outputs": [
    {
     "name": "stdout",
     "output_type": "stream",
     "text": [
      "162/162 [==============================] - 0s 839us/step - loss: 0.3942 - mae: 0.4502\n"
     ]
    }
   ],
   "source": [
    "mae_test = model.evaluate(X_test, y_test)"
   ]
  },
  {
   "cell_type": "code",
   "execution_count": 14,
   "metadata": {},
   "outputs": [
    {
     "data": {
      "image/png": "[encoded data removed]",
      "text/plain": [
       "<Figure size 576x360 with 1 Axes>"
      ]
     },
     "metadata": {
      "needs_background": "light"
     },
     "output_type": "display_data"
    }
   ],
   "source": [
    "pd.DataFrame(model_history.history).plot(figsize=(8, 5))\n",
    "plt.grid(True)\n",
    "plt.gca().set_ylim(0, 1)\n",
    "plt.show()"
   ]
  },
  {
   "cell_type": "code",
   "execution_count": 15,
   "metadata": {},
   "outputs": [
    {
     "name": "stdout",
     "output_type": "stream",
     "text": [
      "[[0.5328767]\n",
      " [1.8915398]\n",
      " [3.4040875]]\n",
      "[0.477   0.458   5.00001]\n"
     ]
    }
   ],
   "source": [
    "X_new = X_test[:3]\n",
    "y_pred = model.predict(X_new)\n",
    "print(y_pred)\n",
    "print(y_test[:3])"
   ]
  },
  {
   "cell_type": "code",
   "execution_count": 16,
   "metadata": {},
   "outputs": [],
   "source": [
    "# deleting model now"
   ]
  },
  {
   "cell_type": "code",
   "execution_count": 41,
   "metadata": {},
   "outputs": [],
   "source": [
    "del model"
   ]
  },
  {
   "cell_type": "code",
   "execution_count": 42,
   "metadata": {},
   "outputs": [],
   "source": [
    "keras.backend.clear_session()"
   ]
  },
  {
   "cell_type": "code",
   "execution_count": 43,
   "metadata": {},
   "outputs": [],
   "source": [
    "np.random.seed(42)\n",
    "tf.random.set_seed(42)"
   ]
  },
  {
   "cell_type": "code",
   "execution_count": 44,
   "metadata": {},
   "outputs": [],
   "source": [
    "input_ = keras.layers.Input(shape=X_train.shape[1:])\n",
    "hidden1 = keras.layers.Dense(30, activation=\"relu\")(input_)"
   ]
  },
  {
   "cell_type": "code",
   "execution_count": 45,
   "metadata": {},
   "outputs": [],
   "source": [
    "hidden2 = keras.layers.Dense(30, activation=\"relu\")(hidden1)\n",
    "concat = keras.layers.concatenate([input_, hidden2])\n",
    "output = keras.layers.Dense(1)(concat)\n",
    "model = keras.models.Model(inputs=[input_], outputs=[output])"
   ]
  },
  {
   "cell_type": "code",
   "execution_count": 46,
   "metadata": {},
   "outputs": [
    {
     "name": "stdout",
     "output_type": "stream",
     "text": [
      "Model: \"model\"\n",
      "__________________________________________________________________________________________________\n",
      "Layer (type)                    Output Shape         Param #     Connected to                     \n",
      "==================================================================================================\n",
      "input_1 (InputLayer)            [(None, 8)]          0                                            \n",
      "__________________________________________________________________________________________________\n",
      "dense (Dense)                   (None, 30)           270         input_1[0][0]                    \n",
      "__________________________________________________________________________________________________\n",
      "dense_1 (Dense)                 (None, 30)           930         dense[0][0]                      \n",
      "__________________________________________________________________________________________________\n",
      "concatenate (Concatenate)       (None, 38)           0           input_1[0][0]                    \n",
      "                                                                 dense_1[0][0]                    \n",
      "__________________________________________________________________________________________________\n",
      "dense_2 (Dense)                 (None, 1)            39          concatenate[0][0]                \n",
      "==================================================================================================\n",
      "Total params: 1,239\n",
      "Trainable params: 1,239\n",
      "Non-trainable params: 0\n",
      "__________________________________________________________________________________________________\n"
     ]
    }
   ],
   "source": [
    "model.summary()"
   ]
  },
  {
   "cell_type": "code",
   "execution_count": 47,
   "metadata": {},
   "outputs": [],
   "source": [
    "model.compile(loss=\"mean_squared_error\",\n",
    "             optimizer=keras.optimizers.SGD(lr=1e-3),\n",
    "             metrics=[\"mae\"])"
   ]
  },
  {
   "cell_type": "code",
   "execution_count": 48,
   "metadata": {
    "scrolled": true
   },
   "outputs": [
    {
     "name": "stdout",
     "output_type": "stream",
     "text": [
      "Epoch 1/40\n",
      "363/363 [==============================] - 1s 2ms/step - loss: 1.9731 - mae: 1.0344 - val_loss: 3.3940 - val_mae: 0.6266\n",
      "Epoch 2/40\n",
      "363/363 [==============================] - 1s 1ms/step - loss: 0.7638 - mae: 0.5991 - val_loss: 0.9360 - val_mae: 0.5652\n",
      "Epoch 3/40\n",
      "363/363 [==============================] - 0s 1ms/step - loss: 0.6045 - mae: 0.5599 - val_loss: 0.5649 - val_mae: 0.5328\n",
      "Epoch 4/40\n",
      "363/363 [==============================] - 1s 2ms/step - loss: 0.5862 - mae: 0.5501 - val_loss: 0.5712 - val_mae: 0.5239\n",
      "Epoch 5/40\n",
      "363/363 [==============================] - 0s 1ms/step - loss: 0.5452 - mae: 0.5330 - val_loss: 0.5045 - val_mae: 0.5068\n",
      "Epoch 6/40\n",
      "363/363 [==============================] - 1s 2ms/step - loss: 0.5243 - mae: 0.5229 - val_loss: 0.4831 - val_mae: 0.4966\n",
      "Epoch 7/40\n",
      "363/363 [==============================] - 0s 1ms/step - loss: 0.5185 - mae: 0.5156 - val_loss: 0.4639 - val_mae: 0.4890\n",
      "Epoch 8/40\n",
      "363/363 [==============================] - 0s 1ms/step - loss: 0.4947 - mae: 0.5059 - val_loss: 0.4638 - val_mae: 0.4833\n",
      "Epoch 9/40\n",
      "363/363 [==============================] - 0s 1ms/step - loss: 0.4782 - mae: 0.4984 - val_loss: 0.4421 - val_mae: 0.4764\n",
      "Epoch 10/40\n",
      "363/363 [==============================] - 0s 1ms/step - loss: 0.4708 - mae: 0.4950 - val_loss: 0.4313 - val_mae: 0.4707\n",
      "Epoch 11/40\n",
      "363/363 [==============================] - 0s 1ms/step - loss: 0.4585 - mae: 0.4869 - val_loss: 0.4345 - val_mae: 0.4701\n",
      "Epoch 12/40\n",
      "363/363 [==============================] - 1s 1ms/step - loss: 0.4481 - mae: 0.4840 - val_loss: 0.4168 - val_mae: 0.4632\n",
      "Epoch 13/40\n",
      "363/363 [==============================] - 0s 1ms/step - loss: 0.4476 - mae: 0.4805 - val_loss: 0.4230 - val_mae: 0.4630\n",
      "Epoch 14/40\n",
      "363/363 [==============================] - 0s 1ms/step - loss: 0.4361 - mae: 0.4762 - val_loss: 0.4047 - val_mae: 0.4581\n",
      "Epoch 15/40\n",
      "363/363 [==============================] - 0s 1ms/step - loss: 0.4392 - mae: 0.4694 - val_loss: 0.4078 - val_mae: 0.4556\n",
      "Epoch 16/40\n",
      "363/363 [==============================] - 1s 2ms/step - loss: 0.4420 - mae: 0.4761 - val_loss: 0.3938 - val_mae: 0.4507\n",
      "Epoch 17/40\n",
      "363/363 [==============================] - 1s 1ms/step - loss: 0.4277 - mae: 0.4703 - val_loss: 0.3952 - val_mae: 0.4480\n",
      "Epoch 18/40\n",
      "363/363 [==============================] - 1s 1ms/step - loss: 0.4216 - mae: 0.4685 - val_loss: 0.3860 - val_mae: 0.4435\n",
      "Epoch 19/40\n",
      "363/363 [==============================] - 1s 1ms/step - loss: 0.4033 - mae: 0.4596 - val_loss: 0.3827 - val_mae: 0.4422\n",
      "Epoch 20/40\n",
      "363/363 [==============================] - 1s 1ms/step - loss: 0.3939 - mae: 0.4510 - val_loss: 0.4054 - val_mae: 0.4450\n",
      "Epoch 21/40\n",
      "363/363 [==============================] - 1s 1ms/step - loss: 0.4077 - mae: 0.4573 - val_loss: 0.3770 - val_mae: 0.4406\n",
      "Epoch 22/40\n",
      "363/363 [==============================] - 1s 1ms/step - loss: 0.3921 - mae: 0.4513 - val_loss: 0.3857 - val_mae: 0.4410\n",
      "Epoch 23/40\n",
      "363/363 [==============================] - 1s 1ms/step - loss: 0.4167 - mae: 0.4617 - val_loss: 0.3787 - val_mae: 0.4339\n",
      "Epoch 24/40\n",
      "363/363 [==============================] - 1s 1ms/step - loss: 0.3914 - mae: 0.4484 - val_loss: 0.3729 - val_mae: 0.4328\n",
      "Epoch 25/40\n",
      "363/363 [==============================] - 1s 2ms/step - loss: 0.3907 - mae: 0.4493 - val_loss: 0.3771 - val_mae: 0.4335\n",
      "Epoch 26/40\n",
      "363/363 [==============================] - 1s 1ms/step - loss: 0.3913 - mae: 0.4454 - val_loss: 0.3671 - val_mae: 0.4305\n",
      "Epoch 27/40\n",
      "363/363 [==============================] - 1s 1ms/step - loss: 0.3982 - mae: 0.4502 - val_loss: 0.3696 - val_mae: 0.4305\n",
      "Epoch 28/40\n",
      "363/363 [==============================] - 1s 1ms/step - loss: 0.3943 - mae: 0.4497 - val_loss: 0.3660 - val_mae: 0.4311\n",
      "Epoch 29/40\n",
      "363/363 [==============================] - 1s 1ms/step - loss: 0.3821 - mae: 0.4438 - val_loss: 0.3596 - val_mae: 0.4280\n",
      "Epoch 30/40\n",
      "363/363 [==============================] - 1s 1ms/step - loss: 0.3898 - mae: 0.4443 - val_loss: 0.3728 - val_mae: 0.4279\n",
      "Epoch 31/40\n",
      "363/363 [==============================] - 1s 1ms/step - loss: 0.3838 - mae: 0.4420 - val_loss: 0.3611 - val_mae: 0.4258\n",
      "Epoch 32/40\n",
      "363/363 [==============================] - 1s 1ms/step - loss: 0.3756 - mae: 0.4416 - val_loss: 0.3785 - val_mae: 0.4305\n",
      "Epoch 33/40\n",
      "363/363 [==============================] - 1s 1ms/step - loss: 0.3800 - mae: 0.4409 - val_loss: 0.3642 - val_mae: 0.4259\n",
      "Epoch 34/40\n",
      "363/363 [==============================] - 1s 1ms/step - loss: 0.3686 - mae: 0.4313 - val_loss: 0.3535 - val_mae: 0.4236\n",
      "Epoch 35/40\n",
      "363/363 [==============================] - 1s 1ms/step - loss: 0.3654 - mae: 0.4309 - val_loss: 0.3675 - val_mae: 0.4266\n",
      "Epoch 36/40\n",
      "363/363 [==============================] - 1s 1ms/step - loss: 0.3629 - mae: 0.4305 - val_loss: 0.3812 - val_mae: 0.4231\n",
      "Epoch 37/40\n",
      "363/363 [==============================] - 1s 1ms/step - loss: 0.3940 - mae: 0.4396 - val_loss: 0.3554 - val_mae: 0.4226\n",
      "Epoch 38/40\n",
      "363/363 [==============================] - 1s 1ms/step - loss: 0.3617 - mae: 0.4254 - val_loss: 0.3584 - val_mae: 0.4215\n",
      "Epoch 39/40\n",
      "363/363 [==============================] - 1s 1ms/step - loss: 0.3846 - mae: 0.4371 - val_loss: 0.3470 - val_mae: 0.4182\n",
      "Epoch 40/40\n",
      "363/363 [==============================] - 1s 1ms/step - loss: 0.3637 - mae: 0.4266 - val_loss: 0.3450 - val_mae: 0.4162\n"
     ]
    }
   ],
   "source": [
    "model_history = model.fit(X_train, y_train, epochs=40, validation_data=(X_valid, y_valid))"
   ]
  },
  {
   "cell_type": "code",
   "execution_count": 49,
   "metadata": {},
   "outputs": [
    {
     "name": "stdout",
     "output_type": "stream",
     "text": [
      "162/162 [==============================] - 0s 909us/step - loss: 0.3663 - mae: 0.4284\n"
     ]
    }
   ],
   "source": [
    "mae_test = model.evaluate(X_test, y_test)"
   ]
  },
  {
   "cell_type": "code",
   "execution_count": 51,
   "metadata": {},
   "outputs": [
    {
     "data": {
      "image/png": "[encoded data removed]",
      "text/plain": [
       "<Figure size 576x360 with 1 Axes>"
      ]
     },
     "metadata": {
      "needs_background": "light"
     },
     "output_type": "display_data"
    }
   ],
   "source": [
    "pd.DataFrame(model_history.history).plot(figsize=(8, 5))\n",
    "plt.grid(True)\n",
    "plt.gca().set_ylim(0, 1)\n",
    "plt.show()"
   ]
  },
  {
   "cell_type": "code",
   "execution_count": 52,
   "metadata": {},
   "outputs": [],
   "source": [
    "# saving the model\n",
    "model.save(\"ann_regression_wide_deep.h5\")"
   ]
  }
 ],
 "metadata": {
  "kernelspec": {
   "display_name": "Python 3",
   "language": "python",
   "name": "python3"
  },
  "language_info": {
   "codemirror_mode": {
    "name": "ipython",
    "version": 3
   },
   "file_extension": ".py",
   "mimetype": "text/x-python",
   "name": "python",
   "nbconvert_exporter": "python",
   "pygments_lexer": "ipython3",
   "version": "3.6.9"
  }
 },
 "nbformat": 4,
 "nbformat_minor": 2
}

